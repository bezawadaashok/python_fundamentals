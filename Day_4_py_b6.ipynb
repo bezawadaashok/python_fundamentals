{
 "cells": [
  {
   "cell_type": "code",
   "execution_count": 5,
   "metadata": {},
   "outputs": [
    {
     "name": "stdout",
     "output_type": "stream",
     "text": [
      "Jansi\n"
     ]
    }
   ],
   "source": [
    "students = ['ashok','balu','sashi','jansi','madhu']\n",
    "print(students[3].title())"
   ]
  },
  {
   "cell_type": "code",
   "execution_count": 4,
   "metadata": {},
   "outputs": [
    {
     "name": "stdout",
     "output_type": "stream",
     "text": [
      "Madhu\n"
     ]
    }
   ],
   "source": [
    "# how to use index position in reverse order----!\n",
    "# list there  is -1,-2,-3,-------***\n",
    "print(students[-1].title())"
   ]
  },
  {
   "cell_type": "code",
   "execution_count": 9,
   "metadata": {},
   "outputs": [
    {
     "name": "stdout",
     "output_type": "stream",
     "text": [
      "['satish', 'harsha', 'ashok', 'swetha', 'janu']\n"
     ]
    }
   ],
   "source": [
    "# core concept of list \n",
    "# changing ,adding ,removing elements in the list \n",
    "my_students = [\"satish\",'harsha','ashok','swetha','janu']\n",
    "print(my_students)"
   ]
  },
  {
   "cell_type": "code",
   "execution_count": null,
   "metadata": {},
   "outputs": [],
   "source": [
    "# changing elements in the list\n",
    "#obj: ashok------>edwin?"
   ]
  },
  {
   "cell_type": "code",
   "execution_count": 11,
   "metadata": {},
   "outputs": [
    {
     "name": "stdout",
     "output_type": "stream",
     "text": [
      "['satish', 'harsha', 'edwin', 'swetha', 'janu']\n"
     ]
    }
   ],
   "source": [
    "my_students[2] = \"edwin\"\n",
    "print(my_students)"
   ]
  },
  {
   "cell_type": "code",
   "execution_count": 12,
   "metadata": {},
   "outputs": [
    {
     "name": "stdout",
     "output_type": "stream",
     "text": [
      "['satish', 'harsha', 'edwin', 'swetha', 'janu', 'nani']\n"
     ]
    }
   ],
   "source": [
    "#adding elements in the list \n",
    "my_students.append('nani')\n",
    "print(my_students)"
   ]
  },
  {
   "cell_type": "code",
   "execution_count": 16,
   "metadata": {},
   "outputs": [
    {
     "name": "stdout",
     "output_type": "stream",
     "text": [
      "['satish', 'harsha', 'hussain', 'hussain', 'edwin', 'nani']\n"
     ]
    }
   ],
   "source": [
    "# interview question \n",
    "# i want to add in middle\n",
    "#obj:------hussain name should be added at the second place\n",
    "my_students.insert(2,\"hussain\")\n",
    "print(my_students)"
   ]
  },
  {
   "cell_type": "code",
   "execution_count": 14,
   "metadata": {},
   "outputs": [
    {
     "name": "stdout",
     "output_type": "stream",
     "text": [
      "['satish', 'harsha', 'edwin', 'nani']\n"
     ]
    }
   ],
   "source": [
    "# removing elements in the file\n",
    "del my_students[3]\n",
    "print(my_students)"
   ]
  },
  {
   "cell_type": "code",
   "execution_count": null,
   "metadata": {},
   "outputs": [],
   "source": [
    "# most asked question \n",
    "#pop()--->it will remove elements from the list by default last element will be removed ,pop(2),pop(3)"
   ]
  },
  {
   "cell_type": "code",
   "execution_count": 17,
   "metadata": {},
   "outputs": [
    {
     "name": "stdout",
     "output_type": "stream",
     "text": [
      "['satish', 'harsha', 'hussain', 'hussain', 'edwin']\n"
     ]
    }
   ],
   "source": [
    "my_students.pop()\n",
    "print(my_students)\n",
    "# pop will remove the elements temporarly"
   ]
  },
  {
   "cell_type": "code",
   "execution_count": 18,
   "metadata": {},
   "outputs": [
    {
     "name": "stdout",
     "output_type": "stream",
     "text": [
      "['vijay', 'balaji', 'bhanu', 'abdul']\n"
     ]
    }
   ],
   "source": [
    "# slicing the elements in the list:\n",
    "team = [\"vijay\",'balaji',\"bhanu\",\"abdul\"]\n",
    "print(team)"
   ]
  },
  {
   "cell_type": "code",
   "execution_count": 19,
   "metadata": {},
   "outputs": [
    {
     "name": "stdout",
     "output_type": "stream",
     "text": [
      "['vijay', 'balaji']\n"
     ]
    }
   ],
   "source": [
    "print(team[0:2])"
   ]
  },
  {
   "cell_type": "code",
   "execution_count": 20,
   "metadata": {},
   "outputs": [
    {
     "name": "stdout",
     "output_type": "stream",
     "text": [
      "['bhanu', 'abdul']\n"
     ]
    }
   ],
   "source": [
    "print(team[2:4])"
   ]
  },
  {
   "cell_type": "code",
   "execution_count": 21,
   "metadata": {},
   "outputs": [
    {
     "name": "stdout",
     "output_type": "stream",
     "text": [
      "['balaji', 'bhanu']\n"
     ]
    }
   ],
   "source": [
    "print(team[1:3])"
   ]
  },
  {
   "cell_type": "code",
   "execution_count": 22,
   "metadata": {},
   "outputs": [
    {
     "name": "stdout",
     "output_type": "stream",
     "text": [
      "['vijay', 'bhanu']\n"
     ]
    }
   ],
   "source": [
    "print(team[0:4:2])# step count"
   ]
  },
  {
   "cell_type": "code",
   "execution_count": null,
   "metadata": {},
   "outputs": [],
   "source": []
  }
 ],
 "metadata": {
  "kernelspec": {
   "display_name": "Python 3",
   "language": "python",
   "name": "python3"
  },
  "language_info": {
   "codemirror_mode": {
    "name": "ipython",
    "version": 3
   },
   "file_extension": ".py",
   "mimetype": "text/x-python",
   "name": "python",
   "nbconvert_exporter": "python",
   "pygments_lexer": "ipython3",
   "version": "3.7.4"
  }
 },
 "nbformat": 4,
 "nbformat_minor": 2
}
